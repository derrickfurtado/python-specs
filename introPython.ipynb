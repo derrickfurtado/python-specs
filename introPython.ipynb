{
 "cells": [
  {
   "cell_type": "code",
   "execution_count": 1,
   "id": "8c607d7a-d921-4bfb-bc75-258b155effb4",
   "metadata": {},
   "outputs": [
    {
     "name": "stdout",
     "output_type": "stream",
     "text": [
      "hello\n"
     ]
    }
   ],
   "source": [
    "print('hello')"
   ]
  },
  {
   "cell_type": "code",
   "execution_count": 2,
   "id": "ff043514-5dbc-4ae8-951e-35b114171144",
   "metadata": {},
   "outputs": [
    {
     "ename": "NameError",
     "evalue": "name 'fdafda' is not defined",
     "output_type": "error",
     "traceback": [
      "\u001b[0;31m---------------------------------------------------------------------------\u001b[0m",
      "\u001b[0;31mNameError\u001b[0m                                 Traceback (most recent call last)",
      "Cell \u001b[0;32mIn[2], line 1\u001b[0m\n\u001b[0;32m----> 1\u001b[0m fdafda\n",
      "\u001b[0;31mNameError\u001b[0m: name 'fdafda' is not defined"
     ]
    }
   ],
   "source": [
    "fdafda\n"
   ]
  },
  {
   "cell_type": "markdown",
   "id": "ea6fc8b4-e0ce-44a3-885e-530db8742005",
   "metadata": {},
   "source": [
    "fasdf\n"
   ]
  },
  {
   "cell_type": "code",
   "execution_count": 3,
   "id": "cdde1a54-86ff-4775-92c8-c4f32dcc175b",
   "metadata": {},
   "outputs": [
    {
     "data": {
      "text/plain": [
       "-4"
      ]
     },
     "execution_count": 3,
     "metadata": {},
     "output_type": "execute_result"
    }
   ],
   "source": [
    "2-6"
   ]
  },
  {
   "cell_type": "code",
   "execution_count": 4,
   "id": "5cd38ef3-876b-4083-83f6-788f40af667b",
   "metadata": {},
   "outputs": [
    {
     "data": {
      "text/plain": [
       "1"
      ]
     },
     "execution_count": 4,
     "metadata": {},
     "output_type": "execute_result"
    }
   ],
   "source": [
    "5%2"
   ]
  },
  {
   "cell_type": "code",
   "execution_count": 5,
   "id": "a4be988f-b8c3-474c-a5b8-93b7cc340732",
   "metadata": {},
   "outputs": [
    {
     "data": {
      "text/plain": [
       "1"
      ]
     },
     "execution_count": 5,
     "metadata": {},
     "output_type": "execute_result"
    }
   ],
   "source": [
    "89489235%2"
   ]
  },
  {
   "cell_type": "code",
   "execution_count": 6,
   "id": "14df3cba-1f05-4fa6-bbaa-ebfd9f6c5455",
   "metadata": {},
   "outputs": [
    {
     "data": {
      "text/plain": [
       "1.5"
      ]
     },
     "execution_count": 6,
     "metadata": {},
     "output_type": "execute_result"
    }
   ],
   "source": [
    "6/4"
   ]
  },
  {
   "cell_type": "code",
   "execution_count": 7,
   "id": "362a543b-fa79-40a5-a9ad-ea81142b129d",
   "metadata": {},
   "outputs": [
    {
     "data": {
      "text/plain": [
       "1"
      ]
     },
     "execution_count": 7,
     "metadata": {},
     "output_type": "execute_result"
    }
   ],
   "source": [
    "2 ^3"
   ]
  },
  {
   "cell_type": "code",
   "execution_count": 8,
   "id": "21d62be8-0213-4a3c-9635-1f637d6d7c58",
   "metadata": {},
   "outputs": [
    {
     "data": {
      "text/plain": [
       "1"
      ]
     },
     "execution_count": 8,
     "metadata": {},
     "output_type": "execute_result"
    }
   ],
   "source": [
    "2^3"
   ]
  },
  {
   "cell_type": "code",
   "execution_count": 9,
   "id": "c0fb1225-c6b4-4c31-b164-98eb85041160",
   "metadata": {},
   "outputs": [
    {
     "data": {
      "text/plain": [
       "407"
      ]
     },
     "execution_count": 9,
     "metadata": {},
     "output_type": "execute_result"
    }
   ],
   "source": [
    "444^43"
   ]
  },
  {
   "cell_type": "code",
   "execution_count": 10,
   "id": "8c422ed5-ffc2-4d45-a26c-997d2efc2d86",
   "metadata": {},
   "outputs": [
    {
     "data": {
      "text/plain": [
       "243"
      ]
     },
     "execution_count": 10,
     "metadata": {},
     "output_type": "execute_result"
    }
   ],
   "source": [
    "3**5"
   ]
  },
  {
   "cell_type": "code",
   "execution_count": 11,
   "id": "b05243bb-44fe-4028-a1b5-a42d16dadd2b",
   "metadata": {},
   "outputs": [],
   "source": [
    "a = 10\n",
    "b = 5"
   ]
  },
  {
   "cell_type": "code",
   "execution_count": 12,
   "id": "498a0b21-5a5b-4fba-8754-6589e24f6e09",
   "metadata": {},
   "outputs": [
    {
     "data": {
      "text/plain": [
       "15"
      ]
     },
     "execution_count": 12,
     "metadata": {},
     "output_type": "execute_result"
    }
   ],
   "source": [
    "a + b"
   ]
  },
  {
   "cell_type": "code",
   "execution_count": 13,
   "id": "717ecf42-21d7-4096-b0f6-236ffd48ab30",
   "metadata": {},
   "outputs": [
    {
     "ename": "SyntaxError",
     "evalue": "cannot assign to expression here. Maybe you meant '==' instead of '='? (644002206.py, line 1)",
     "output_type": "error",
     "traceback": [
      "\u001b[0;36m  Cell \u001b[0;32mIn[13], line 1\u001b[0;36m\u001b[0m\n\u001b[0;31m    a + b = a\u001b[0m\n\u001b[0m    ^\u001b[0m\n\u001b[0;31mSyntaxError\u001b[0m\u001b[0;31m:\u001b[0m cannot assign to expression here. Maybe you meant '==' instead of '='?\n"
     ]
    }
   ],
   "source": [
    "a + b = a"
   ]
  },
  {
   "cell_type": "code",
   "execution_count": 14,
   "id": "54837133-4281-450e-8c26-aab96c494c22",
   "metadata": {},
   "outputs": [
    {
     "data": {
      "text/plain": [
       "15"
      ]
     },
     "execution_count": 14,
     "metadata": {},
     "output_type": "execute_result"
    }
   ],
   "source": [
    "a+b"
   ]
  },
  {
   "cell_type": "code",
   "execution_count": 15,
   "id": "a22066a0-6002-4a2f-b6ce-27c731ff92c0",
   "metadata": {},
   "outputs": [],
   "source": [
    "a = a + b"
   ]
  },
  {
   "cell_type": "code",
   "execution_count": 16,
   "id": "bdddb0a1-607e-4cd6-ac63-49aa7ad3cf80",
   "metadata": {},
   "outputs": [
    {
     "data": {
      "text/plain": [
       "20"
      ]
     },
     "execution_count": 16,
     "metadata": {},
     "output_type": "execute_result"
    }
   ],
   "source": [
    "a + b"
   ]
  },
  {
   "cell_type": "code",
   "execution_count": null,
   "id": "5b308e68-484a-48de-8e82-e590bc84478c",
   "metadata": {},
   "outputs": [],
   "source": []
  },
  {
   "cell_type": "code",
   "execution_count": 17,
   "id": "8e8af9bf-459e-4317-9636-ed0c68eccd68",
   "metadata": {},
   "outputs": [
    {
     "data": {
      "text/plain": [
       "20"
      ]
     },
     "execution_count": 17,
     "metadata": {},
     "output_type": "execute_result"
    }
   ],
   "source": [
    "a+b"
   ]
  },
  {
   "cell_type": "code",
   "execution_count": 18,
   "id": "c39326c3-a941-48cd-9c25-ff92027d0d40",
   "metadata": {},
   "outputs": [
    {
     "data": {
      "text/plain": [
       "15"
      ]
     },
     "execution_count": 18,
     "metadata": {},
     "output_type": "execute_result"
    }
   ],
   "source": [
    "a"
   ]
  },
  {
   "cell_type": "code",
   "execution_count": 19,
   "id": "3aa0a28d-9380-47a2-8520-0cc6a8c5400c",
   "metadata": {},
   "outputs": [],
   "source": [
    "my_income = 12"
   ]
  },
  {
   "cell_type": "code",
   "execution_count": 20,
   "id": "44ea7aff-b0a8-45e1-9827-49233cb26cdb",
   "metadata": {},
   "outputs": [
    {
     "data": {
      "text/plain": [
       "12"
      ]
     },
     "execution_count": 20,
     "metadata": {},
     "output_type": "execute_result"
    }
   ],
   "source": [
    "my_income"
   ]
  },
  {
   "cell_type": "code",
   "execution_count": 21,
   "id": "c6c03606-b249-4e09-a81d-3bdeca469666",
   "metadata": {},
   "outputs": [],
   "source": [
    "start = \"here is where we start ...\"\n",
    "end = \"... here is where we end\""
   ]
  },
  {
   "cell_type": "code",
   "execution_count": 22,
   "id": "812a05a8-6550-4e4a-a72d-193795d6d9b7",
   "metadata": {},
   "outputs": [
    {
     "data": {
      "text/plain": [
       "'here is where we start ...... here is where we end'"
      ]
     },
     "execution_count": 22,
     "metadata": {},
     "output_type": "execute_result"
    }
   ],
   "source": [
    "start + end"
   ]
  },
  {
   "cell_type": "code",
   "execution_count": 23,
   "id": "caa72dfd-e5b3-4731-a816-4c295d1bb976",
   "metadata": {},
   "outputs": [
    {
     "data": {
      "text/plain": [
       "'... here is where we endhere is where we start ...'"
      ]
     },
     "execution_count": 23,
     "metadata": {},
     "output_type": "execute_result"
    }
   ],
   "source": [
    "end + start"
   ]
  },
  {
   "cell_type": "code",
   "execution_count": 24,
   "id": "cf4eead7-d215-448f-8b70-d46e6bcdfafd",
   "metadata": {},
   "outputs": [
    {
     "data": {
      "text/plain": [
       "' '"
      ]
     },
     "execution_count": 24,
     "metadata": {},
     "output_type": "execute_result"
    }
   ],
   "source": [
    "start[4]"
   ]
  },
  {
   "cell_type": "code",
   "execution_count": 25,
   "id": "c679705f-c57e-4645-8fa3-2ce48b7c8e2b",
   "metadata": {},
   "outputs": [
    {
     "data": {
      "text/plain": [
       "'s'"
      ]
     },
     "execution_count": 25,
     "metadata": {},
     "output_type": "execute_result"
    }
   ],
   "source": [
    "start[6]"
   ]
  },
  {
   "cell_type": "code",
   "execution_count": 26,
   "id": "a35d7f28-43f9-448a-8a1a-13412fdbcd77",
   "metadata": {},
   "outputs": [
    {
     "data": {
      "text/plain": [
       "'.'"
      ]
     },
     "execution_count": 26,
     "metadata": {},
     "output_type": "execute_result"
    }
   ],
   "source": [
    "start[-1]"
   ]
  },
  {
   "cell_type": "code",
   "execution_count": 27,
   "id": "85c771ba-b818-4e56-aced-042b10333ff1",
   "metadata": {},
   "outputs": [
    {
     "data": {
      "text/plain": [
       "'d'"
      ]
     },
     "execution_count": 27,
     "metadata": {},
     "output_type": "execute_result"
    }
   ],
   "source": [
    "end [-1]"
   ]
  },
  {
   "cell_type": "code",
   "execution_count": 30,
   "id": "5582f9a3-c57d-4c64-bdba-d4e116ebff24",
   "metadata": {},
   "outputs": [
    {
     "name": "stdout",
     "output_type": "stream",
     "text": [
      "start with this \n",
      "\n",
      "\n",
      "\n",
      " and add an extra space\n"
     ]
    }
   ],
   "source": [
    "print(\"start with this \\n\\n\\n\\n and add an extra space\")"
   ]
  },
  {
   "cell_type": "code",
   "execution_count": 31,
   "id": "b86e5687-c297-490b-b266-398d1abc4e44",
   "metadata": {},
   "outputs": [
    {
     "data": {
      "text/plain": [
       "26"
      ]
     },
     "execution_count": 31,
     "metadata": {},
     "output_type": "execute_result"
    }
   ],
   "source": [
    "len(start)"
   ]
  },
  {
   "cell_type": "code",
   "execution_count": 32,
   "id": "57dd23d1-e98b-430b-b3ef-f4f4a6f6b9fc",
   "metadata": {},
   "outputs": [
    {
     "data": {
      "text/plain": [
       "'here is where we start ...'"
      ]
     },
     "execution_count": 32,
     "metadata": {},
     "output_type": "execute_result"
    }
   ],
   "source": [
    "start"
   ]
  },
  {
   "cell_type": "code",
   "execution_count": 38,
   "id": "7b1f554c-8c49-4d27-bf28-83bd631cc689",
   "metadata": {},
   "outputs": [
    {
     "data": {
      "text/plain": [
       "'hr sweew tr .'"
      ]
     },
     "execution_count": 38,
     "metadata": {},
     "output_type": "execute_result"
    }
   ],
   "source": [
    "start[::2]"
   ]
  },
  {
   "cell_type": "code",
   "execution_count": 39,
   "id": "7ee0c96d-8390-4728-84ca-028609ad4287",
   "metadata": {},
   "outputs": [],
   "source": [
    "name = \"Sam\""
   ]
  },
  {
   "cell_type": "code",
   "execution_count": 43,
   "id": "b1042cfc-e493-40c6-a79f-fa1f2a7d83a5",
   "metadata": {},
   "outputs": [],
   "source": [
    "name = \"P\" + name[1::]"
   ]
  },
  {
   "cell_type": "code",
   "execution_count": 44,
   "id": "31c9b09a-2727-4dc9-93a4-5c40d8baf835",
   "metadata": {},
   "outputs": [
    {
     "data": {
      "text/plain": [
       "'Pam'"
      ]
     },
     "execution_count": 44,
     "metadata": {},
     "output_type": "execute_result"
    }
   ],
   "source": [
    "name"
   ]
  },
  {
   "cell_type": "code",
   "execution_count": 45,
   "id": "cb3e8359-071f-4ae6-a5c0-56a1ef004120",
   "metadata": {},
   "outputs": [],
   "source": [
    "x = 34"
   ]
  },
  {
   "cell_type": "code",
   "execution_count": 46,
   "id": "8fa43c35-8ca4-4c78-9ea8-b9b0089701b7",
   "metadata": {},
   "outputs": [],
   "source": [
    "x = \"hello world\""
   ]
  },
  {
   "cell_type": "code",
   "execution_count": 47,
   "id": "95c441b2-2595-4446-9a7e-f31f0578700b",
   "metadata": {},
   "outputs": [
    {
     "data": {
      "text/plain": [
       "<function str.capitalize()>"
      ]
     },
     "execution_count": 47,
     "metadata": {},
     "output_type": "execute_result"
    }
   ],
   "source": [
    "x.capitalize"
   ]
  },
  {
   "cell_type": "code",
   "execution_count": 48,
   "id": "dee7655a-e311-4e0b-b2fa-79a367e1a540",
   "metadata": {},
   "outputs": [
    {
     "data": {
      "text/plain": [
       "'Hello world'"
      ]
     },
     "execution_count": 48,
     "metadata": {},
     "output_type": "execute_result"
    }
   ],
   "source": [
    "x.capitalize()"
   ]
  },
  {
   "cell_type": "code",
   "execution_count": 49,
   "id": "4e564d89-b804-43cb-8fee-61d77dbe46e4",
   "metadata": {},
   "outputs": [
    {
     "data": {
      "text/plain": [
       "['hello', 'world']"
      ]
     },
     "execution_count": 49,
     "metadata": {},
     "output_type": "execute_result"
    }
   ],
   "source": [
    "x.split()"
   ]
  },
  {
   "cell_type": "code",
   "execution_count": 50,
   "id": "c0056e70-ecd7-4a94-bd69-dee6a33d5586",
   "metadata": {},
   "outputs": [],
   "source": [
    "#text goes here"
   ]
  },
  {
   "cell_type": "code",
   "execution_count": 55,
   "id": "9a61298f-6add-469a-a22b-dd7469a14624",
   "metadata": {},
   "outputs": [
    {
     "name": "stdout",
     "output_type": "stream",
     "text": [
      "This is a string err and does not give an err\n"
     ]
    }
   ],
   "source": [
    "print(\"This is a string {1} and does not give an {1}\".format(\"INSERTED\", \"err\"))"
   ]
  },
  {
   "cell_type": "code",
   "execution_count": 58,
   "id": "e045e4a2-b04b-4aa4-83e3-40b0032c7939",
   "metadata": {},
   "outputs": [],
   "source": [
    "result = 100 / 234"
   ]
  },
  {
   "cell_type": "code",
   "execution_count": 59,
   "id": "4bb391f6-caf5-46ac-9430-33aaf9324cb4",
   "metadata": {},
   "outputs": [
    {
     "data": {
      "text/plain": [
       "0.42735042735042733"
      ]
     },
     "execution_count": 59,
     "metadata": {},
     "output_type": "execute_result"
    }
   ],
   "source": [
    "result"
   ]
  },
  {
   "cell_type": "code",
   "execution_count": 64,
   "id": "bc69fc39-0c86-4b01-91a8-9fe55a9aa3ed",
   "metadata": {},
   "outputs": [
    {
     "name": "stdout",
     "output_type": "stream",
     "text": [
      "The result is: 0.427\n"
     ]
    }
   ],
   "source": [
    "print(\"The result is: {r:1.3f}\".format(r=result))"
   ]
  },
  {
   "cell_type": "code",
   "execution_count": null,
   "id": "53ef03ec-7dc4-4f3b-8efd-8cfff2efbefb",
   "metadata": {},
   "outputs": [],
   "source": []
  },
  {
   "cell_type": "code",
   "execution_count": null,
   "id": "6fb28474-4284-43d4-a3da-9c27b10bbd53",
   "metadata": {},
   "outputs": [],
   "source": []
  },
  {
   "cell_type": "code",
   "execution_count": 65,
   "id": "bd12a163-31d1-42ac-a0d3-4ef4f35adc90",
   "metadata": {},
   "outputs": [],
   "source": [
    "name = \"Derrick\""
   ]
  },
  {
   "cell_type": "code",
   "execution_count": 68,
   "id": "2c2b972d-515b-4ea8-97ef-57f4b131bc7e",
   "metadata": {},
   "outputs": [
    {
     "name": "stdout",
     "output_type": "stream",
     "text": [
      "Hello, my name is Derrick\n"
     ]
    }
   ],
   "source": [
    "print(f'Hello, my name is {name}')"
   ]
  },
  {
   "cell_type": "code",
   "execution_count": 69,
   "id": "b21d299e-2d0d-4478-bdf4-503bf2156a0d",
   "metadata": {},
   "outputs": [],
   "source": [
    "my_list = [\n",
    "    1,\n",
    "    2,\n",
    "    3,\n",
    "    4,\n",
    "]"
   ]
  },
  {
   "cell_type": "code",
   "execution_count": 70,
   "id": "61fd64fd-b905-4e65-a79c-df4db8da4fb6",
   "metadata": {},
   "outputs": [
    {
     "data": {
      "text/plain": [
       "[1, 2, 3, 4]"
      ]
     },
     "execution_count": 70,
     "metadata": {},
     "output_type": "execute_result"
    }
   ],
   "source": [
    "my_list"
   ]
  },
  {
   "cell_type": "code",
   "execution_count": 74,
   "id": "5c4cb721-1dbf-4c83-a22c-0db099736c7c",
   "metadata": {},
   "outputs": [],
   "source": [
    "my_list.append(\"555\")"
   ]
  },
  {
   "cell_type": "code",
   "execution_count": 76,
   "id": "7f1f28e2-672c-4b0c-b673-efbdeb1dcfdd",
   "metadata": {},
   "outputs": [
    {
     "data": {
      "text/plain": [
       "[1, 2, 3, 4, '555', '555', '555']"
      ]
     },
     "execution_count": 76,
     "metadata": {},
     "output_type": "execute_result"
    }
   ],
   "source": [
    "my_list"
   ]
  },
  {
   "cell_type": "code",
   "execution_count": 77,
   "id": "93eda45d-eab0-47f1-9301-75c42e2bf09d",
   "metadata": {},
   "outputs": [],
   "source": [
    "newList = ['a','c','b','d']\n",
    "numList = ['3','2','4','1','5']"
   ]
  },
  {
   "cell_type": "code",
   "execution_count": 81,
   "id": "37cda19b-a506-4182-9eb3-7ab4b7d9a346",
   "metadata": {},
   "outputs": [],
   "source": [
    "newList.sort()"
   ]
  },
  {
   "cell_type": "code",
   "execution_count": 79,
   "id": "f3108b6b-31c2-4575-8a6d-a0d4542d971c",
   "metadata": {},
   "outputs": [
    {
     "data": {
      "text/plain": [
       "['a', 'b', 'c', 'd']"
      ]
     },
     "execution_count": 79,
     "metadata": {},
     "output_type": "execute_result"
    }
   ],
   "source": [
    "newList"
   ]
  },
  {
   "cell_type": "code",
   "execution_count": 84,
   "id": "8aadd2cd-567d-47bf-b37a-fd47f8541f64",
   "metadata": {},
   "outputs": [],
   "source": [
    "numList.sort()"
   ]
  },
  {
   "cell_type": "code",
   "execution_count": 87,
   "id": "67c71288-d859-4a5e-b010-4d15659bf640",
   "metadata": {},
   "outputs": [],
   "source": [
    "numList.reverse()"
   ]
  },
  {
   "cell_type": "code",
   "execution_count": 88,
   "id": "aa54e4fa-0188-46ad-877b-801243da558e",
   "metadata": {},
   "outputs": [
    {
     "data": {
      "text/plain": [
       "['5', '4', '3', '2', '1']"
      ]
     },
     "execution_count": 88,
     "metadata": {},
     "output_type": "execute_result"
    }
   ],
   "source": [
    "numList"
   ]
  },
  {
   "cell_type": "code",
   "execution_count": 89,
   "id": "a99d5abd-e904-4a56-a381-24863f97fc3f",
   "metadata": {},
   "outputs": [],
   "source": [
    "myDict = {\"a\":\"apple\",\"b\":\"bat\",\"c\":\"Charlie\",\"d\":10}"
   ]
  },
  {
   "cell_type": "code",
   "execution_count": 91,
   "id": "8b694dc2-278a-4b1c-bb1e-f81b52be9ada",
   "metadata": {},
   "outputs": [
    {
     "data": {
      "text/plain": [
       "'apple'"
      ]
     },
     "execution_count": 91,
     "metadata": {},
     "output_type": "execute_result"
    }
   ],
   "source": [
    "myDict[\"a\"]"
   ]
  },
  {
   "cell_type": "code",
   "execution_count": 92,
   "id": "62526601-ece7-449e-957a-44ac447c8ae5",
   "metadata": {},
   "outputs": [
    {
     "data": {
      "text/plain": [
       "'Charlie'"
      ]
     },
     "execution_count": 92,
     "metadata": {},
     "output_type": "execute_result"
    }
   ],
   "source": [
    "myDict[\"c\"]"
   ]
  },
  {
   "cell_type": "code",
   "execution_count": 93,
   "id": "93443d02-fc20-4551-a89d-a26c6bf9fd0d",
   "metadata": {},
   "outputs": [],
   "source": [
    "myDict = {\n",
    "    \"apple\":2.99,\n",
    "    \"orange\":3.99,\n",
    "    \"pear\":4.55,\n",
    "    \"onion\":1.23,\n",
    "    \"grapes\":0.99,\n",
    "    \"potatoes\":1.99,\n",
    "    \"celery\":2.99,\n",
    "    \"carrots\":4.99,\n",
    "    \"cereal\":6.99,\n",
    "}"
   ]
  },
  {
   "cell_type": "code",
   "execution_count": 95,
   "id": "e2926b93-b737-4bd4-a244-bfda9c5bb4b5",
   "metadata": {},
   "outputs": [
    {
     "data": {
      "text/plain": [
       "2.99"
      ]
     },
     "execution_count": 95,
     "metadata": {},
     "output_type": "execute_result"
    }
   ],
   "source": [
    "myDict[\"apple\"]"
   ]
  },
  {
   "cell_type": "code",
   "execution_count": 96,
   "id": "28beb8f0-f09a-4bc9-9b90-5cc22ceb8d2c",
   "metadata": {},
   "outputs": [
    {
     "data": {
      "text/plain": [
       "dict_keys(['apple', 'orange', 'pear', 'onion', 'grapes', 'potatoes', 'celery', 'carrots', 'cereal'])"
      ]
     },
     "execution_count": 96,
     "metadata": {},
     "output_type": "execute_result"
    }
   ],
   "source": [
    "myDict.keys()"
   ]
  },
  {
   "cell_type": "code",
   "execution_count": 97,
   "id": "8c694836-357b-4ab3-a209-e77600aa2d0b",
   "metadata": {},
   "outputs": [
    {
     "data": {
      "text/plain": [
       "dict_values([2.99, 3.99, 4.55, 1.23, 0.99, 1.99, 2.99, 4.99, 6.99])"
      ]
     },
     "execution_count": 97,
     "metadata": {},
     "output_type": "execute_result"
    }
   ],
   "source": [
    "myDict.values()"
   ]
  },
  {
   "cell_type": "code",
   "execution_count": 98,
   "id": "f5a28c2b-2f30-4919-8917-fbb8fc58d802",
   "metadata": {},
   "outputs": [
    {
     "data": {
      "text/plain": [
       "dict_items([('apple', 2.99), ('orange', 3.99), ('pear', 4.55), ('onion', 1.23), ('grapes', 0.99), ('potatoes', 1.99), ('celery', 2.99), ('carrots', 4.99), ('cereal', 6.99)])"
      ]
     },
     "execution_count": 98,
     "metadata": {},
     "output_type": "execute_result"
    }
   ],
   "source": [
    "myDict.items()"
   ]
  },
  {
   "cell_type": "code",
   "execution_count": 99,
   "id": "7403f757-1b37-4f5e-b753-6c322b3d5a8c",
   "metadata": {},
   "outputs": [
    {
     "ename": "AttributeError",
     "evalue": "'dict_keys' object has no attribute 'sort'",
     "output_type": "error",
     "traceback": [
      "\u001b[0;31m---------------------------------------------------------------------------\u001b[0m",
      "\u001b[0;31mAttributeError\u001b[0m                            Traceback (most recent call last)",
      "Cell \u001b[0;32mIn[99], line 1\u001b[0m\n\u001b[0;32m----> 1\u001b[0m myDict\u001b[38;5;241m.\u001b[39mkeys()\u001b[38;5;241m.\u001b[39msort()\n",
      "\u001b[0;31mAttributeError\u001b[0m: 'dict_keys' object has no attribute 'sort'"
     ]
    }
   ],
   "source": [
    "myDict.keys().sort()"
   ]
  },
  {
   "cell_type": "code",
   "execution_count": 100,
   "id": "ede98ebd-583f-444c-957f-64fe94c5850d",
   "metadata": {},
   "outputs": [
    {
     "data": {
      "text/plain": [
       "dict_keys(['apple', 'orange', 'pear', 'onion', 'grapes', 'potatoes', 'celery', 'carrots', 'cereal'])"
      ]
     },
     "execution_count": 100,
     "metadata": {},
     "output_type": "execute_result"
    }
   ],
   "source": [
    "myDict.keys()"
   ]
  },
  {
   "cell_type": "code",
   "execution_count": 101,
   "id": "2365062e-7e2f-4e56-b4da-f65c3af28a07",
   "metadata": {},
   "outputs": [
    {
     "data": {
      "text/plain": [
       "9"
      ]
     },
     "execution_count": 101,
     "metadata": {},
     "output_type": "execute_result"
    }
   ],
   "source": [
    "len(myDict)"
   ]
  },
  {
   "cell_type": "code",
   "execution_count": null,
   "id": "8fbc747d-efcf-4c7c-bd9b-fccec1b8ea0e",
   "metadata": {},
   "outputs": [],
   "source": []
  }
 ],
 "metadata": {
  "kernelspec": {
   "display_name": "Python 3 (ipykernel)",
   "language": "python",
   "name": "python3"
  },
  "language_info": {
   "codemirror_mode": {
    "name": "ipython",
    "version": 3
   },
   "file_extension": ".py",
   "mimetype": "text/x-python",
   "name": "python",
   "nbconvert_exporter": "python",
   "pygments_lexer": "ipython3",
   "version": "3.11.7"
  }
 },
 "nbformat": 4,
 "nbformat_minor": 5
}
