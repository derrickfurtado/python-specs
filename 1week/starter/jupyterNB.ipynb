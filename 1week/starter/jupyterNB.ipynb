{
 "cells": [
  {
   "cell_type": "code",
   "execution_count": 1,
   "id": "93654f4a-e279-42a4-9bc7-4f332496f206",
   "metadata": {},
   "outputs": [
    {
     "data": {
      "text/plain": [
       "'/Users/drock/Desktop/python-specs/1week/starter'"
      ]
     },
     "execution_count": 1,
     "metadata": {},
     "output_type": "execute_result"
    }
   ],
   "source": [
    "pwd"
   ]
  },
  {
   "cell_type": "code",
   "execution_count": 2,
   "id": "95e03129-f900-4b9e-a35a-8861ed98e9fa",
   "metadata": {},
   "outputs": [
    {
     "ename": "NameError",
     "evalue": "name 'myFile' is not defined",
     "output_type": "error",
     "traceback": [
      "\u001b[0;31m---------------------------------------------------------------------------\u001b[0m",
      "\u001b[0;31mNameError\u001b[0m                                 Traceback (most recent call last)",
      "Cell \u001b[0;32mIn[2], line 1\u001b[0m\n\u001b[0;32m----> 1\u001b[0m \u001b[38;5;28mopen\u001b[39m(myFile\u001b[38;5;241m.\u001b[39mtxt)\n",
      "\u001b[0;31mNameError\u001b[0m: name 'myFile' is not defined"
     ]
    }
   ],
   "source": [
    "open(myFile.txt)"
   ]
  },
  {
   "cell_type": "code",
   "execution_count": 5,
   "id": "29e47600-5afb-422a-9b71-6a02d2d886e7",
   "metadata": {},
   "outputs": [],
   "source": [
    "myfile = open(\"myFile.txt\")"
   ]
  },
  {
   "cell_type": "code",
   "execution_count": 6,
   "id": "8c35a45d-e3ef-42d0-899b-ef38b043148b",
   "metadata": {},
   "outputs": [
    {
     "data": {
      "text/plain": [
       "'test message'"
      ]
     },
     "execution_count": 6,
     "metadata": {},
     "output_type": "execute_result"
    }
   ],
   "source": [
    "myfile.read()"
   ]
  },
  {
   "cell_type": "code",
   "execution_count": 7,
   "id": "63d679dc-e379-41f1-a01a-e94ad3228684",
   "metadata": {},
   "outputs": [
    {
     "data": {
      "text/plain": [
       "''"
      ]
     },
     "execution_count": 7,
     "metadata": {},
     "output_type": "execute_result"
    }
   ],
   "source": [
    "myfile.read()"
   ]
  },
  {
   "cell_type": "code",
   "execution_count": 8,
   "id": "46a8783e-a286-45e0-9797-19a00ca54847",
   "metadata": {},
   "outputs": [
    {
     "data": {
      "text/plain": [
       "0"
      ]
     },
     "execution_count": 8,
     "metadata": {},
     "output_type": "execute_result"
    }
   ],
   "source": [
    "myfile.seek(0)"
   ]
  },
  {
   "cell_type": "code",
   "execution_count": 9,
   "id": "a515ee72-b1dd-4149-b288-4f03c79914f6",
   "metadata": {},
   "outputs": [
    {
     "data": {
      "text/plain": [
       "'test message'"
      ]
     },
     "execution_count": 9,
     "metadata": {},
     "output_type": "execute_result"
    }
   ],
   "source": [
    "myfile.read()"
   ]
  },
  {
   "cell_type": "code",
   "execution_count": 10,
   "id": "a9acb527-8661-4aa6-8f54-6c476b9ce879",
   "metadata": {},
   "outputs": [],
   "source": [
    "myfile.close()"
   ]
  },
  {
   "cell_type": "code",
   "execution_count": 11,
   "id": "0f569af4-06d9-4987-b2d1-d683338d0eef",
   "metadata": {},
   "outputs": [
    {
     "ename": "AttributeError",
     "evalue": "'_io.TextIOWrapper' object has no attribute 'see'",
     "output_type": "error",
     "traceback": [
      "\u001b[0;31m---------------------------------------------------------------------------\u001b[0m",
      "\u001b[0;31mAttributeError\u001b[0m                            Traceback (most recent call last)",
      "Cell \u001b[0;32mIn[11], line 1\u001b[0m\n\u001b[0;32m----> 1\u001b[0m myfile\u001b[38;5;241m.\u001b[39msee(\u001b[38;5;241m0\u001b[39m)\n",
      "\u001b[0;31mAttributeError\u001b[0m: '_io.TextIOWrapper' object has no attribute 'see'"
     ]
    }
   ],
   "source": [
    "myfile.see(0)"
   ]
  },
  {
   "cell_type": "code",
   "execution_count": 49,
   "id": "3cd111a9-937f-423f-8ce6-3cae5b0a8708",
   "metadata": {},
   "outputs": [],
   "source": [
    "with open(\"myfile.txt\") as my_new_file:\n",
    "    message = my_new_file.read()"
   ]
  },
  {
   "cell_type": "code",
   "execution_count": 50,
   "id": "e33b1b4b-9680-4615-8bcc-b7138dcbd3d0",
   "metadata": {},
   "outputs": [
    {
     "data": {
      "text/plain": [
       "'One of first\\ntwo on second\\nthree on third\\n'"
      ]
     },
     "execution_count": 50,
     "metadata": {},
     "output_type": "execute_result"
    }
   ],
   "source": [
    "message"
   ]
  },
  {
   "cell_type": "code",
   "execution_count": 21,
   "id": "f58a93ee-ad98-40cb-868b-32dce5554fea",
   "metadata": {},
   "outputs": [],
   "source": [
    "message = message + \". Adding to the test message\""
   ]
  },
  {
   "cell_type": "code",
   "execution_count": 48,
   "id": "c6298b81-2cc5-405d-9b24-cee986e52d8c",
   "metadata": {},
   "outputs": [
    {
     "data": {
      "text/plain": [
       "'test message. Adding to the test message'"
      ]
     },
     "execution_count": 48,
     "metadata": {},
     "output_type": "execute_result"
    }
   ],
   "source": [
    "message"
   ]
  },
  {
   "cell_type": "code",
   "execution_count": 24,
   "id": "64ae9feb-6238-4ff1-ac23-5c1c50e892a6",
   "metadata": {},
   "outputs": [
    {
     "data": {
      "text/plain": [
       "'test message. Adding to the test message'"
      ]
     },
     "execution_count": 24,
     "metadata": {},
     "output_type": "execute_result"
    }
   ],
   "source": [
    "message"
   ]
  },
  {
   "cell_type": "code",
   "execution_count": 35,
   "id": "8c260af7-759a-4c72-90fa-a538c02b68a4",
   "metadata": {},
   "outputs": [],
   "source": [
    "new_message = message.replace(\"message\", \"dog\")"
   ]
  },
  {
   "cell_type": "code",
   "execution_count": 36,
   "id": "0a840b6f-a2a1-40d0-97b6-0e16da6e59ca",
   "metadata": {},
   "outputs": [
    {
     "data": {
      "text/plain": [
       "'test dog. Adding to the test dog'"
      ]
     },
     "execution_count": 36,
     "metadata": {},
     "output_type": "execute_result"
    }
   ],
   "source": [
    "new_message"
   ]
  },
  {
   "cell_type": "code",
   "execution_count": 44,
   "id": "8b0de74b-da25-4305-9444-b74ecb63911e",
   "metadata": {},
   "outputs": [
    {
     "ename": "TypeError",
     "evalue": "TextIOWrapper.write() takes exactly one argument (0 given)",
     "output_type": "error",
     "traceback": [
      "\u001b[0;31m---------------------------------------------------------------------------\u001b[0m",
      "\u001b[0;31mTypeError\u001b[0m                                 Traceback (most recent call last)",
      "Cell \u001b[0;32mIn[44], line 2\u001b[0m\n\u001b[1;32m      1\u001b[0m \u001b[38;5;28;01mwith\u001b[39;00m \u001b[38;5;28mopen\u001b[39m(\u001b[38;5;124m\"\u001b[39m\u001b[38;5;124mmyfile.txt\u001b[39m\u001b[38;5;124m\"\u001b[39m,mode\u001b[38;5;241m=\u001b[39m\u001b[38;5;124m'\u001b[39m\u001b[38;5;124mw\u001b[39m\u001b[38;5;124m'\u001b[39m) \u001b[38;5;28;01mas\u001b[39;00m myfile:\n\u001b[0;32m----> 2\u001b[0m     contents \u001b[38;5;241m=\u001b[39m myfile\u001b[38;5;241m.\u001b[39mwrite()\n",
      "\u001b[0;31mTypeError\u001b[0m: TextIOWrapper.write() takes exactly one argument (0 given)"
     ]
    }
   ],
   "source": [
    "with open(\"myfile.txt\",mode='w') as myfile:\n",
    "    contents = myfile.write()"
   ]
  },
  {
   "cell_type": "code",
   "execution_count": 39,
   "id": "2fad2d5d-29a7-4a3a-8621-b38f92e1544c",
   "metadata": {},
   "outputs": [
    {
     "data": {
      "text/plain": [
       "'test message'"
      ]
     },
     "execution_count": 39,
     "metadata": {},
     "output_type": "execute_result"
    }
   ],
   "source": [
    "contents"
   ]
  },
  {
   "cell_type": "code",
   "execution_count": 40,
   "id": "87cebdf5-7a56-429c-85c6-6a85674870ce",
   "metadata": {},
   "outputs": [
    {
     "data": {
      "text/plain": [
       "'test message. Adding to the test message'"
      ]
     },
     "execution_count": 40,
     "metadata": {},
     "output_type": "execute_result"
    }
   ],
   "source": [
    "message"
   ]
  },
  {
   "cell_type": "code",
   "execution_count": 47,
   "id": "bcd89856-cf42-4bc2-8df8-86ade375185a",
   "metadata": {},
   "outputs": [
    {
     "name": "stdout",
     "output_type": "stream",
     "text": [
      "Overwriting myfile.txt\n"
     ]
    }
   ],
   "source": [
    "%%writefile myfile.txt\n",
    "One of first\n",
    "two on second\n",
    "three on third"
   ]
  },
  {
   "cell_type": "code",
   "execution_count": 51,
   "id": "279052ee-dde7-414d-8484-8d2d7dae51bd",
   "metadata": {},
   "outputs": [
    {
     "name": "stdout",
     "output_type": "stream",
     "text": [
      "One of first\n",
      "two on second\n",
      "three on third\n",
      "\n"
     ]
    }
   ],
   "source": [
    "with open(\"myfile.txt\", mode=\"r\") as f:\n",
    "    print(f.read())"
   ]
  },
  {
   "cell_type": "code",
   "execution_count": 52,
   "id": "c728d201-f5de-4aff-b042-cc34fb77aa3b",
   "metadata": {},
   "outputs": [],
   "source": [
    "with open(\"myfile.txt\", mode=\"a\") as f:\n",
    "    f.write(\"four on fourth\")"
   ]
  },
  {
   "cell_type": "code",
   "execution_count": 53,
   "id": "de42b662-3d8d-4c61-9b34-ff4881435567",
   "metadata": {},
   "outputs": [
    {
     "data": {
      "text/plain": [
       "True"
      ]
     },
     "execution_count": 53,
     "metadata": {},
     "output_type": "execute_result"
    }
   ],
   "source": [
    "2 == 2"
   ]
  },
  {
   "cell_type": "code",
   "execution_count": 54,
   "id": "750d95d1-f895-471e-8a49-351754bef4d8",
   "metadata": {},
   "outputs": [],
   "source": [
    "  myList = [1,2,3,4,5,6,7,8,9,10]"
   ]
  },
  {
   "cell_type": "code",
   "execution_count": 55,
   "id": "77c0e57d-3de0-440e-940b-da100afd24b1",
   "metadata": {},
   "outputs": [
    {
     "data": {
      "text/plain": [
       "6"
      ]
     },
     "execution_count": 55,
     "metadata": {},
     "output_type": "execute_result"
    }
   ],
   "source": [
    "myList[5]"
   ]
  },
  {
   "cell_type": "code",
   "execution_count": 64,
   "id": "4b793ff6-7cb8-42e5-bde3-0b14a737e60b",
   "metadata": {},
   "outputs": [],
   "source": [
    "list_counter = 0"
   ]
  },
  {
   "cell_type": "code",
   "execution_count": 68,
   "id": "6282f323-911c-4dfc-8224-24b4633187b7",
   "metadata": {},
   "outputs": [
    {
     "name": "stdout",
     "output_type": "stream",
     "text": [
      "1 is not divisible by 3\n",
      "2 is not divisible by 3\n",
      "3\n",
      "4 is not divisible by 3\n",
      "5 is not divisible by 3\n",
      "6\n",
      "7 is not divisible by 3\n",
      "8 is not divisible by 3\n",
      "9\n",
      "10 is not divisible by 3\n",
      "This logic iterated 30 times.\n"
     ]
    }
   ],
   "source": [
    "for num in myList:\n",
    "    if num % 3 == 0:\n",
    "        print(num),\n",
    "        list_counter += 1\n",
    "    else:\n",
    "        print(f\"{num} is not divisible by 3\"),\n",
    "        list_counter += 1\n",
    "print(f\"This logic iterated {list_counter} times.\")"
   ]
  },
  {
   "cell_type": "code",
   "execution_count": 69,
   "id": "17f604ab-be24-44f8-bd59-a120602dee9a",
   "metadata": {},
   "outputs": [],
   "source": [
    "tup = [(3,4),(8,3),(5,9)]"
   ]
  },
  {
   "cell_type": "code",
   "execution_count": 71,
   "id": "9b4dc93d-3cec-40d4-8d63-63ba3bb817ed",
   "metadata": {},
   "outputs": [
    {
     "name": "stdout",
     "output_type": "stream",
     "text": [
      "(3, 4)\n",
      "(8, 3)\n",
      "(5, 9)\n"
     ]
    }
   ],
   "source": [
    "for t in tup:\n",
    "    print(t)"
   ]
  },
  {
   "cell_type": "code",
   "execution_count": 86,
   "id": "e9d7c1d6-fac4-489a-8569-7f7d9746e047",
   "metadata": {},
   "outputs": [
    {
     "name": "stdout",
     "output_type": "stream",
     "text": [
      "{'one': 1, 'two': 2, 'three': 3}\n"
     ]
    }
   ],
   "source": [
    "dict = {'one':1, 'two':2, 'three':3}\n",
    "print(dict)"
   ]
  },
  {
   "cell_type": "code",
   "execution_count": 88,
   "id": "debece39-d399-4058-b418-550e78b1cddb",
   "metadata": {},
   "outputs": [
    {
     "ename": "SyntaxError",
     "evalue": "cannot assign to literal (1354818957.py, line 1)",
     "output_type": "error",
     "traceback": [
      "\u001b[0;36m  Cell \u001b[0;32mIn[88], line 1\u001b[0;36m\u001b[0m\n\u001b[0;31m    for 'a':b in dict:\u001b[0m\n\u001b[0m        ^\u001b[0m\n\u001b[0;31mSyntaxError\u001b[0m\u001b[0;31m:\u001b[0m cannot assign to literal\n"
     ]
    }
   ],
   "source": [
    "for 'a':b in dict:\n",
    "    print(\"key is: \",a)\n",
    "    print(\"value is: \",b)\n",
    "\n",
    "#can't do this for dictionaries"
   ]
  },
  {
   "cell_type": "code",
   "execution_count": 95,
   "id": "8c397e36-5394-4464-850e-ac01d4cbd190",
   "metadata": {},
   "outputs": [
    {
     "name": "stdout",
     "output_type": "stream",
     "text": [
      "key is:  one\n",
      "value is:  1\n",
      "===========\n",
      "key is:  two\n",
      "value is:  2\n",
      "===========\n",
      "key is:  three\n",
      "value is:  3\n",
      "===========\n"
     ]
    }
   ],
   "source": [
    "for key,value in dict.items():\n",
    "    print(\"key is: \",key)\n",
    "    print(\"value is: \",value)\n",
    "    print(\"===========\")\n",
    "\n",
    "#This works for dictionaries"
   ]
  },
  {
   "cell_type": "code",
   "execution_count": 96,
   "id": "cd6d8bad-a331-4c37-969d-ec13c13bd948",
   "metadata": {},
   "outputs": [
    {
     "name": "stdout",
     "output_type": "stream",
     "text": [
      "3\n",
      "4\n",
      "8\n",
      "3\n",
      "5\n",
      "9\n"
     ]
    }
   ],
   "source": [
    "for a,b in tup:\n",
    "    print(a)\n",
    "    print(b)\n",
    "\n",
    "#You can do this with tuples. It's called tuple unpacking"
   ]
  },
  {
   "cell_type": "code",
   "execution_count": 122,
   "id": "65c2f42f-9f63-43c8-b65a-29222ac718b0",
   "metadata": {},
   "outputs": [],
   "source": [
    "x = 0"
   ]
  },
  {
   "cell_type": "code",
   "execution_count": 124,
   "id": "74b427f5-294f-4ba7-914a-f6e8981c01b3",
   "metadata": {},
   "outputs": [
    {
     "name": "stdout",
     "output_type": "stream",
     "text": [
      "0\n",
      "1\n",
      "2\n",
      "3\n",
      "4\n",
      "5\n",
      "6\n",
      "7\n",
      "8\n",
      "9\n",
      "10\n",
      "11\n"
     ]
    }
   ],
   "source": [
    "while x <= 12:\n",
    "    print(x)\n",
    "    x += 1\n",
    "    if x == 12:\n",
    "        break"
   ]
  },
  {
   "cell_type": "code",
   "execution_count": 118,
   "id": "2c5e547e-a47b-450a-8c62-b12e5a91712b",
   "metadata": {},
   "outputs": [
    {
     "name": "stdout",
     "output_type": "stream",
     "text": [
      "12\n"
     ]
    }
   ],
   "source": [
    "print(x)"
   ]
  },
  {
   "cell_type": "code",
   "execution_count": 125,
   "id": "09a128a3-c769-4dbf-a54e-1b340c5e09ce",
   "metadata": {},
   "outputs": [
    {
     "name": "stdout",
     "output_type": "stream",
     "text": [
      "0\n",
      "1\n",
      "2\n",
      "3\n",
      "4\n",
      "5\n",
      "6\n",
      "7\n",
      "8\n",
      "9\n",
      "10\n",
      "11\n",
      "12\n",
      "13\n",
      "14\n",
      "15\n",
      "16\n",
      "17\n",
      "18\n",
      "19\n"
     ]
    }
   ],
   "source": [
    " for num in range (20):\n",
    "     print(num)"
   ]
  },
  {
   "cell_type": "code",
   "execution_count": 126,
   "id": "d45b1510-7cef-4003-8379-87ee6345d340",
   "metadata": {},
   "outputs": [],
   "source": [
    " from random import shuffle"
   ]
  },
  {
   "cell_type": "code",
   "execution_count": 134,
   "id": "f31b2513-c2a3-4c47-bea6-f8479154fc69",
   "metadata": {},
   "outputs": [
    {
     "name": "stdout",
     "output_type": "stream",
     "text": [
      "[2, 6, 3, 4, 1, 5]\n"
     ]
    }
   ],
   "source": [
    "myList = [1,2,3,4,5,6]\n",
    "shuffle(myList)\n",
    "print(myList)"
   ]
  },
  {
   "cell_type": "code",
   "execution_count": 135,
   "id": "52d76a0d-e5e5-43de-b804-d6549bca2ad1",
   "metadata": {},
   "outputs": [
    {
     "name": "stdin",
     "output_type": "stream",
     "text": [
      "enter a number:  50\n"
     ]
    },
    {
     "data": {
      "text/plain": [
       "'50'"
      ]
     },
     "execution_count": 135,
     "metadata": {},
     "output_type": "execute_result"
    }
   ],
   "source": [
    "input('enter a number: ')"
   ]
  },
  {
   "cell_type": "code",
   "execution_count": 140,
   "id": "b3e12bcf-39d1-4e61-a3fa-ae7c4f146a9c",
   "metadata": {},
   "outputs": [
    {
     "name": "stdin",
     "output_type": "stream",
     "text": [
      "enter a number 40\n"
     ]
    }
   ],
   "source": [
    "result = int(input('enter a number'))"
   ]
  },
  {
   "cell_type": "code",
   "execution_count": 141,
   "id": "bfb720aa-29b9-4eaa-aa96-5505ee259bbe",
   "metadata": {},
   "outputs": [
    {
     "name": "stdout",
     "output_type": "stream",
     "text": [
      "The number I chose was:  40\n"
     ]
    }
   ],
   "source": [
    "print(\"The number I chose was: \", result)"
   ]
  },
  {
   "cell_type": "code",
   "execution_count": 151,
   "id": "39295b13-d36d-4ea6-95ef-b3e4adff1241",
   "metadata": {},
   "outputs": [
    {
     "data": {
      "text/plain": [
       "int"
      ]
     },
     "execution_count": 151,
     "metadata": {},
     "output_type": "execute_result"
    }
   ],
   "source": [
    "type(result)"
   ]
  },
  {
   "cell_type": "code",
   "execution_count": 152,
   "id": "2fd3b854-758a-4e51-88d9-2b89e7e845bc",
   "metadata": {},
   "outputs": [
    {
     "data": {
      "text/plain": [
       "'/Users/drock/Desktop/python-specs/1week'"
      ]
     },
     "execution_count": 152,
     "metadata": {},
     "output_type": "execute_result"
    }
   ],
   "source": [
    "pwd"
   ]
  },
  {
   "cell_type": "code",
   "execution_count": 154,
   "id": "6a45c7ae-2ab0-429e-9f1e-ecfeac8a43c8",
   "metadata": {},
   "outputs": [
    {
     "name": "stdout",
     "output_type": "stream",
     "text": [
      "\u001b[34mfiles\u001b[m\u001b[m/   \u001b[34mstarter\u001b[m\u001b[m/\n"
     ]
    }
   ],
   "source": [
    "ls"
   ]
  },
  {
   "cell_type": "code",
   "execution_count": 155,
   "id": "b0380b1b-094a-4dae-a463-84bc1071409c",
   "metadata": {},
   "outputs": [
    {
     "data": {
      "text/plain": [
       "'/Users/drock/Desktop/python-specs/1week'"
      ]
     },
     "execution_count": 155,
     "metadata": {},
     "output_type": "execute_result"
    }
   ],
   "source": [
    "pwd"
   ]
  },
  {
   "cell_type": "code",
   "execution_count": null,
   "id": "c0881254-fa74-4c82-af05-a34d31792ff0",
   "metadata": {},
   "outputs": [],
   "source": []
  }
 ],
 "metadata": {
  "kernelspec": {
   "display_name": "Python 3 (ipykernel)",
   "language": "python",
   "name": "python3"
  },
  "language_info": {
   "codemirror_mode": {
    "name": "ipython",
    "version": 3
   },
   "file_extension": ".py",
   "mimetype": "text/x-python",
   "name": "python",
   "nbconvert_exporter": "python",
   "pygments_lexer": "ipython3",
   "version": "3.11.7"
  }
 },
 "nbformat": 4,
 "nbformat_minor": 5
}
