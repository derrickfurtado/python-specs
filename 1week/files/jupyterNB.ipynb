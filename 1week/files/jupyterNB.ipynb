{
 "cells": [
  {
   "cell_type": "code",
   "execution_count": 1,
   "id": "93654f4a-e279-42a4-9bc7-4f332496f206",
   "metadata": {},
   "outputs": [
    {
     "data": {
      "text/plain": [
       "'/Users/drock/Desktop/python-specs/1week/starter'"
      ]
     },
     "execution_count": 1,
     "metadata": {},
     "output_type": "execute_result"
    }
   ],
   "source": [
    "pwd"
   ]
  },
  {
   "cell_type": "code",
   "execution_count": 2,
   "id": "95e03129-f900-4b9e-a35a-8861ed98e9fa",
   "metadata": {},
   "outputs": [
    {
     "ename": "NameError",
     "evalue": "name 'myFile' is not defined",
     "output_type": "error",
     "traceback": [
      "\u001b[0;31m---------------------------------------------------------------------------\u001b[0m",
      "\u001b[0;31mNameError\u001b[0m                                 Traceback (most recent call last)",
      "Cell \u001b[0;32mIn[2], line 1\u001b[0m\n\u001b[0;32m----> 1\u001b[0m \u001b[38;5;28mopen\u001b[39m(myFile\u001b[38;5;241m.\u001b[39mtxt)\n",
      "\u001b[0;31mNameError\u001b[0m: name 'myFile' is not defined"
     ]
    }
   ],
   "source": [
    "open(myFile.txt)"
   ]
  },
  {
   "cell_type": "code",
   "execution_count": 5,
   "id": "29e47600-5afb-422a-9b71-6a02d2d886e7",
   "metadata": {},
   "outputs": [],
   "source": [
    "myfile = open(\"myFile.txt\")"
   ]
  },
  {
   "cell_type": "code",
   "execution_count": 6,
   "id": "8c35a45d-e3ef-42d0-899b-ef38b043148b",
   "metadata": {},
   "outputs": [
    {
     "data": {
      "text/plain": [
       "'test message'"
      ]
     },
     "execution_count": 6,
     "metadata": {},
     "output_type": "execute_result"
    }
   ],
   "source": [
    "myfile.read()"
   ]
  },
  {
   "cell_type": "code",
   "execution_count": 7,
   "id": "63d679dc-e379-41f1-a01a-e94ad3228684",
   "metadata": {},
   "outputs": [
    {
     "data": {
      "text/plain": [
       "''"
      ]
     },
     "execution_count": 7,
     "metadata": {},
     "output_type": "execute_result"
    }
   ],
   "source": [
    "myfile.read()"
   ]
  },
  {
   "cell_type": "code",
   "execution_count": 8,
   "id": "46a8783e-a286-45e0-9797-19a00ca54847",
   "metadata": {},
   "outputs": [
    {
     "data": {
      "text/plain": [
       "0"
      ]
     },
     "execution_count": 8,
     "metadata": {},
     "output_type": "execute_result"
    }
   ],
   "source": [
    "myfile.seek(0)"
   ]
  },
  {
   "cell_type": "code",
   "execution_count": 9,
   "id": "a515ee72-b1dd-4149-b288-4f03c79914f6",
   "metadata": {},
   "outputs": [
    {
     "data": {
      "text/plain": [
       "'test message'"
      ]
     },
     "execution_count": 9,
     "metadata": {},
     "output_type": "execute_result"
    }
   ],
   "source": [
    "myfile.read()"
   ]
  },
  {
   "cell_type": "code",
   "execution_count": 10,
   "id": "a9acb527-8661-4aa6-8f54-6c476b9ce879",
   "metadata": {},
   "outputs": [],
   "source": [
    "myfile.close()"
   ]
  },
  {
   "cell_type": "code",
   "execution_count": 11,
   "id": "0f569af4-06d9-4987-b2d1-d683338d0eef",
   "metadata": {},
   "outputs": [
    {
     "ename": "AttributeError",
     "evalue": "'_io.TextIOWrapper' object has no attribute 'see'",
     "output_type": "error",
     "traceback": [
      "\u001b[0;31m---------------------------------------------------------------------------\u001b[0m",
      "\u001b[0;31mAttributeError\u001b[0m                            Traceback (most recent call last)",
      "Cell \u001b[0;32mIn[11], line 1\u001b[0m\n\u001b[0;32m----> 1\u001b[0m myfile\u001b[38;5;241m.\u001b[39msee(\u001b[38;5;241m0\u001b[39m)\n",
      "\u001b[0;31mAttributeError\u001b[0m: '_io.TextIOWrapper' object has no attribute 'see'"
     ]
    }
   ],
   "source": [
    "myfile.see(0)"
   ]
  },
  {
   "cell_type": "code",
   "execution_count": 49,
   "id": "3cd111a9-937f-423f-8ce6-3cae5b0a8708",
   "metadata": {},
   "outputs": [],
   "source": [
    "with open(\"myfile.txt\") as my_new_file:\n",
    "    message = my_new_file.read()"
   ]
  },
  {
   "cell_type": "code",
   "execution_count": 50,
   "id": "e33b1b4b-9680-4615-8bcc-b7138dcbd3d0",
   "metadata": {},
   "outputs": [
    {
     "data": {
      "text/plain": [
       "'One of first\\ntwo on second\\nthree on third\\n'"
      ]
     },
     "execution_count": 50,
     "metadata": {},
     "output_type": "execute_result"
    }
   ],
   "source": [
    "message"
   ]
  },
  {
   "cell_type": "code",
   "execution_count": 21,
   "id": "f58a93ee-ad98-40cb-868b-32dce5554fea",
   "metadata": {},
   "outputs": [],
   "source": [
    "message = message + \". Adding to the test message\""
   ]
  },
  {
   "cell_type": "code",
   "execution_count": 48,
   "id": "c6298b81-2cc5-405d-9b24-cee986e52d8c",
   "metadata": {},
   "outputs": [
    {
     "data": {
      "text/plain": [
       "'test message. Adding to the test message'"
      ]
     },
     "execution_count": 48,
     "metadata": {},
     "output_type": "execute_result"
    }
   ],
   "source": [
    "message"
   ]
  },
  {
   "cell_type": "code",
   "execution_count": 24,
   "id": "64ae9feb-6238-4ff1-ac23-5c1c50e892a6",
   "metadata": {},
   "outputs": [
    {
     "data": {
      "text/plain": [
       "'test message. Adding to the test message'"
      ]
     },
     "execution_count": 24,
     "metadata": {},
     "output_type": "execute_result"
    }
   ],
   "source": [
    "message"
   ]
  },
  {
   "cell_type": "code",
   "execution_count": 35,
   "id": "8c260af7-759a-4c72-90fa-a538c02b68a4",
   "metadata": {},
   "outputs": [],
   "source": [
    "new_message = message.replace(\"message\", \"dog\")"
   ]
  },
  {
   "cell_type": "code",
   "execution_count": 36,
   "id": "0a840b6f-a2a1-40d0-97b6-0e16da6e59ca",
   "metadata": {},
   "outputs": [
    {
     "data": {
      "text/plain": [
       "'test dog. Adding to the test dog'"
      ]
     },
     "execution_count": 36,
     "metadata": {},
     "output_type": "execute_result"
    }
   ],
   "source": [
    "new_message"
   ]
  },
  {
   "cell_type": "code",
   "execution_count": 44,
   "id": "8b0de74b-da25-4305-9444-b74ecb63911e",
   "metadata": {},
   "outputs": [
    {
     "ename": "TypeError",
     "evalue": "TextIOWrapper.write() takes exactly one argument (0 given)",
     "output_type": "error",
     "traceback": [
      "\u001b[0;31m---------------------------------------------------------------------------\u001b[0m",
      "\u001b[0;31mTypeError\u001b[0m                                 Traceback (most recent call last)",
      "Cell \u001b[0;32mIn[44], line 2\u001b[0m\n\u001b[1;32m      1\u001b[0m \u001b[38;5;28;01mwith\u001b[39;00m \u001b[38;5;28mopen\u001b[39m(\u001b[38;5;124m\"\u001b[39m\u001b[38;5;124mmyfile.txt\u001b[39m\u001b[38;5;124m\"\u001b[39m,mode\u001b[38;5;241m=\u001b[39m\u001b[38;5;124m'\u001b[39m\u001b[38;5;124mw\u001b[39m\u001b[38;5;124m'\u001b[39m) \u001b[38;5;28;01mas\u001b[39;00m myfile:\n\u001b[0;32m----> 2\u001b[0m     contents \u001b[38;5;241m=\u001b[39m myfile\u001b[38;5;241m.\u001b[39mwrite()\n",
      "\u001b[0;31mTypeError\u001b[0m: TextIOWrapper.write() takes exactly one argument (0 given)"
     ]
    }
   ],
   "source": [
    "with open(\"myfile.txt\",mode='w') as myfile:\n",
    "    contents = myfile.write()"
   ]
  },
  {
   "cell_type": "code",
   "execution_count": 39,
   "id": "2fad2d5d-29a7-4a3a-8621-b38f92e1544c",
   "metadata": {},
   "outputs": [
    {
     "data": {
      "text/plain": [
       "'test message'"
      ]
     },
     "execution_count": 39,
     "metadata": {},
     "output_type": "execute_result"
    }
   ],
   "source": [
    "contents"
   ]
  },
  {
   "cell_type": "code",
   "execution_count": 40,
   "id": "87cebdf5-7a56-429c-85c6-6a85674870ce",
   "metadata": {},
   "outputs": [
    {
     "data": {
      "text/plain": [
       "'test message. Adding to the test message'"
      ]
     },
     "execution_count": 40,
     "metadata": {},
     "output_type": "execute_result"
    }
   ],
   "source": [
    "message"
   ]
  },
  {
   "cell_type": "code",
   "execution_count": 47,
   "id": "bcd89856-cf42-4bc2-8df8-86ade375185a",
   "metadata": {},
   "outputs": [
    {
     "name": "stdout",
     "output_type": "stream",
     "text": [
      "Overwriting myfile.txt\n"
     ]
    }
   ],
   "source": [
    "%%writefile myfile.txt\n",
    "One of first\n",
    "two on second\n",
    "three on third"
   ]
  },
  {
   "cell_type": "code",
   "execution_count": 51,
   "id": "279052ee-dde7-414d-8484-8d2d7dae51bd",
   "metadata": {},
   "outputs": [
    {
     "name": "stdout",
     "output_type": "stream",
     "text": [
      "One of first\n",
      "two on second\n",
      "three on third\n",
      "\n"
     ]
    }
   ],
   "source": [
    "with open(\"myfile.txt\", mode=\"r\") as f:\n",
    "    print(f.read())"
   ]
  },
  {
   "cell_type": "code",
   "execution_count": 52,
   "id": "c728d201-f5de-4aff-b042-cc34fb77aa3b",
   "metadata": {},
   "outputs": [],
   "source": [
    "with open(\"myfile.txt\", mode=\"a\") as f:\n",
    "    f.write(\"four on fourth\")"
   ]
  },
  {
   "cell_type": "code",
   "execution_count": null,
   "id": "de42b662-3d8d-4c61-9b34-ff4881435567",
   "metadata": {},
   "outputs": [],
   "source": []
  }
 ],
 "metadata": {
  "kernelspec": {
   "display_name": "Python 3 (ipykernel)",
   "language": "python",
   "name": "python3"
  },
  "language_info": {
   "codemirror_mode": {
    "name": "ipython",
    "version": 3
   },
   "file_extension": ".py",
   "mimetype": "text/x-python",
   "name": "python",
   "nbconvert_exporter": "python",
   "pygments_lexer": "ipython3",
   "version": "3.11.7"
  }
 },
 "nbformat": 4,
 "nbformat_minor": 5
}
